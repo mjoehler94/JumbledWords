{
 "cells": [
  {
   "cell_type": "markdown",
   "metadata": {},
   "source": [
    "# Jumbled Words\n",
    "\n",
    "<!-- ### I had to start somewhere...\n",
    "\n",
    "It's a personal hobby of mine to spend a little time each day devoted to learning new things. \n",
    "For some time now, I have been meaning to get in the habit of documenting and publishing my findings, \n",
    "both to cement concepts I've learned and perhaps to help someone else who may be doing some learning of their own.\n",
    "This isn't by any means the first or the flashiest project I've worked on, but I had to start somewhere. Why not with something simple?\n",
    " -->\n",
    "\n",
    "## Motivation\n",
    "\n",
    "I recently came across an article talking about how people can read jumbled text, given that the first and last letters of each word remain in their respective positions. \n",
    "The article included a few examples of jumbled sentences, and I found the concept to be intriguing. Unsatisfied with example jumbled text from the article, I resolved to explore this phenomenon further. Since the format for jumbling words is both clearly defined and simple, I figured it could be the basis of a simple mini-project to brush up on my python skills. I decided to write a simple program that can take a text snippet and output a jumbled variation of it.\n",
    "\n",
    "### Implementation\n",
    "\n",
    "First and foremost we should clearly define the rules of the jumbling algorithm that we want to implement, and I have done so in the short list below:\n",
    "\n",
    "#### Rules of Jumbling\n",
    "\n",
    "1. The first and last letter of each word must remain in place\n",
    "2. The letters in the middle of each word can be mixed up randomly in any order\n",
    "3. By default, words that are 3 letters or less remain unchanged. \n",
    "\n",
    "For the sake of simplicity, I wrote my program to ignore the puncuation and capitalization of the text that it jumbles. Doing this greatly simplifies the implementation at the cost of making the jumbled result slightly more difficult to read. Using a little extra brain power never hurt anyone, right?\n",
    "\n",
    "After doing some brief research, I chose to import a few packages to help with the processes performed in the jumbling algorithm. \n",
    "The ```random``` library will make it nice and easy to jumble the letters, and the ```re``` library helps to strip the punctuation from the imput text. Base python should be equipped with everything else we need, so let's get started on piecing things together. We'll also be using the ```argparse``` library to make our code usable from the command line.\n",
    "\n",
    "I've recently come to learn that drawing a picture is a great way to start most coding projects as it provides a tentative roadmap of what needs to happen and how the different steps can be broken up. This program is simple enough that an actual sketch might not be necessary, so a simple list should suffice:\n",
    "\n",
    "#### Word Jumble Program Steps:\n",
    "\n",
    "1. Read in text from a file\n",
    "2. Format the text by removing punctuation and capitalization\n",
    "3. Jumble the text according to the algorithm definition\n",
    "4. Save the jumbled text to a new file\n",
    "\n",
    "Keeping these steps in mind, we will proceed with the implementation. At the end, we'll join things up into a single script that we can run from the command line.\n"
   ]
  },
  {
   "cell_type": "markdown",
   "metadata": {
    "slideshow": {
     "slide_type": "slide"
    }
   },
   "source": [
    "Importing libraries is easy enough, and we already discussed why these libraries in particular will be useful for this program."
   ]
  },
  {
   "cell_type": "code",
   "execution_count": 1,
   "metadata": {},
   "outputs": [],
   "source": [
    "# libraries needed for the jumbling program\n",
    "import random\n",
    "import re\n",
    "import argparse"
   ]
  },
  {
   "cell_type": "markdown",
   "metadata": {},
   "source": [
    "Next, we can use a simple context manager to read in the text from a file. "
   ]
  },
  {
   "cell_type": "code",
   "execution_count": 2,
   "metadata": {},
   "outputs": [
    {
     "name": "stdout",
     "output_type": "stream",
     "text": [
      "Here is an example of some words that can be jumbled up. As long as we don't mess with the first letter or the last letter, we can read it without any problems. Kind of cool, right?\n"
     ]
    }
   ],
   "source": [
    "# read in the text from a file\n",
    "with open('example.txt') as f:\n",
    "    content = f.read()\n",
    "print(content)"
   ]
  },
  {
   "cell_type": "markdown",
   "metadata": {},
   "source": [
    "The jumbling algorithm is simple enough that it can be coded into a single function, which I implemented below.\n",
    "I tried to be thorough in terms of commenting each step, but I also included a more detailed description of how the function works in the text that follows."
   ]
  },
  {
   "cell_type": "code",
   "execution_count": 3,
   "metadata": {},
   "outputs": [],
   "source": [
    "# function to perform the jumbling algorithm\n",
    "def jumble(content):\n",
    "    \n",
    "    # remove punctuation and make lower case\n",
    "    content = re.sub('[^\\w\\s]','',content).lower() \n",
    "    # split up the string based on spaces\n",
    "    content_list = content.split()  \n",
    "    \n",
    "    #initialize output string and use a for loop to update it\n",
    "    new_content = \"\"\n",
    "    for word in content_list:\n",
    "        if len(word) > 3:\n",
    "            # isolate first and last letters of the word\n",
    "            first_letter = word[0]\n",
    "            last_letter = word[-1]\n",
    "            \n",
    "            # extract the middle of the word and jumble it up!\n",
    "            middle = word[1:-1]            \n",
    "            jumbled_middle = random.sample(middle, len(middle))\n",
    "            \n",
    "            # reassemble the parts of the jumbled word\n",
    "            jumbled_word = first_letter + \"\".join(jumbled_middle) + last_letter\n",
    "        else:\n",
    "            # the word is too short to be jumbled\n",
    "            jumbled_word = word\n",
    "        # update the output\n",
    "        new_content += jumbled_word + \" \"\n",
    "    \n",
    "    return new_content"
   ]
  },
  {
   "cell_type": "markdown",
   "metadata": {},
   "source": [
    "**Step 1: Format the content string**\n",
    "\n",
    "The content argument is simply a string of the text that we want to jumble.\n",
    "The ```sub``` function from the ```re``` library is how we strip the punctuation. \n",
    "The first argument is the pattern that we want to replace: ```'[^\\w\\s]'``` (this  regular expression isolates punctuation).\n",
    "The second argument is what we want to replace any matches with. \n",
    "Since we want to remove punctuation marks, we just replace them with the empty string: ```''```. \n",
    "The third and final argument of the ```sub``` function is the string from in which to look for matches, which, \n",
    "in this case, is the content string that we passed into the jumble function.\n",
    "To handle capitalization, we used the ```.lower()``` method from base python to make the entire content string lower case.\n",
    "Lastly, we used the ```.split()``` method (also from base python) to split up the content string into a list of words which will be jumbled in the next step.\n",
    "\n",
    "**Step 2: Jumble the words**\n",
    "\n",
    "Now that the content string has been split up into a list of words, we can simply loop through the list,\n",
    "and jumble it according to the rules that we defined earlier. \n",
    "If the word is 3 letters or less we simply add it to the output string, otherwise we jumble it!\n",
    "When jumbling, we make use of the ```sample``` function from the ```random``` library. \n",
    "The ```sample``` function takes two arguments: a population from which to sample, and the number (k) of samples to draw from that population. \n",
    "Since strings in python are treated essentially as an array of characters we can pass in ```middle``` as the population \n",
    "arguement where ```middle``` is the array remaining characters of each word after excluding the first and last characters.\n",
    "For k, we simply pass in the length of ```middle``` since we want to get each of the characters returned back to us \n",
    "in a random order.\n",
    "The returned list of individual characters is connected back together using the ```.join()``` method (base python), and the \n",
    "first/last letters are placed at there proper positions, leaving us with our jumbled word.\n",
    "After adding this word to the output string the loop restarts, repeating the jumbling process until completion."
   ]
  },
  {
   "cell_type": "markdown",
   "metadata": {},
   "source": [
    "Let's put our new function to the test and see if it is working properly."
   ]
  },
  {
   "cell_type": "code",
   "execution_count": 4,
   "metadata": {},
   "outputs": [
    {
     "name": "stdout",
     "output_type": "stream",
     "text": [
      "Original Content:\n",
      "Here is an example of some words that can be jumbled up. As long as we don't mess with the first letter or the last letter, we can read it without any problems. Kind of cool, right?\n",
      "\n",
      "Jumbled Content:\n",
      "hree is an exlmpae of some wdros that can be jubmled up as long as we dnot mess wtih the first leettr or the last letetr we can raed it woiutht any peombrls knid of cool rhigt \n"
     ]
    }
   ],
   "source": [
    "# show original content\n",
    "print(\"Original Content:\\n\", content,\"\\n\", sep = \"\")\n",
    "\n",
    "# jumble the content and show the results!\n",
    "jumbled_content = jumble(content)\n",
    "print(\"Jumbled Content:\\n\", jumbled_content, sep = \"\")"
   ]
  },
  {
   "cell_type": "markdown",
   "metadata": {},
   "source": [
    "Seems to be working great!\n",
    "\n",
    "Next we'll compile each of the pieces together into a single script and use the ```argparse``` library to make a program that's easy to run from the command line. \n",
    "\n",
    "```argparse``` is pretty easy to work with. We just need to initialize a parsing object, specify the arguments that we want to recieve, and then parse the received arguments. This can be done in just a few lines of code. I chose to call my arguments ```-i``` and ```-o``` for input and output respectively. I used the ```dest``` argument to provide a more accurate name when extracting them from the parser. "
   ]
  },
  {
   "cell_type": "markdown",
   "metadata": {},
   "source": [
    "```python\n",
    "# parse the arguments from the command line\n",
    "parser = argparse.ArgumentParser(description='This is a program that jumbles text')\n",
    "parser.add_argument(\"-i\", help=\"The name of the file with text to jumble\", dest=\"input_file\")\n",
    "parser.add_argument(\"-o\", help=\"The name of the output file that containt the jumbled text\",\n",
    "                    dest=\"output_file\", default=\"output.txt\")\n",
    "args = parser.parse_args()\n",
    "```"
   ]
  },
  {
   "cell_type": "markdown",
   "metadata": {},
   "source": [
    "The```description``` and  ```help``` arguments are used in the program help text which can be seen if we run the program from the command line with the ```-h``` argument.\n",
    "\n",
    "![](helpmessage.png)"
   ]
  },
  {
   "cell_type": "markdown",
   "metadata": {},
   "source": [
    "Now that we have the argparse section complete we can throw the individual parts together into a single script."
   ]
  },
  {
   "cell_type": "markdown",
   "metadata": {},
   "source": [
    "The final result looks like this:"
   ]
  },
  {
   "cell_type": "markdown",
   "metadata": {},
   "source": [
    "```python\n",
    "# jumble.py --------------------------------------------------------------\n",
    "\n",
    "# libraries\n",
    "import argparse\n",
    "import re\n",
    "import random\n",
    "\n",
    "\n",
    "def main():\n",
    "    # parse the arguments from the command line\n",
    "    parser = argparse.ArgumentParser(description='This is a program that jumbles text')\n",
    "    parser.add_argument(\"-i\", help=\"The name of the file with text to jumble\", dest=\"input_file\")\n",
    "    parser.add_argument(\"-o\", help=\"The name of the output file that containt the jumbled text\",\n",
    "                        dest=\"output_file\", default=\"output.txt\")\n",
    "    args = parser.parse_args()\n",
    "\n",
    "    # extract args from arg parser\n",
    "    input_file = args.input_file\n",
    "    output_file = args.output_file\n",
    "\n",
    "    # read in the text from a file\n",
    "    with open(input_file) as f:\n",
    "        text = f.read()\n",
    "\n",
    "    # jumble the text from input_file\n",
    "    output = jumble(text)\n",
    "\n",
    "    # write the output to a new file\n",
    "    with open(output_file, 'w') as f:\n",
    "        f.write(output)\n",
    "\n",
    "    # display message\n",
    "    print(\"The text from {0} was jumbled and saved to {1}\".format(input_file, output_file))\n",
    "    return\n",
    "\n",
    "\n",
    "# function to perform the jumbling algorithm\n",
    "def jumble(content):\n",
    "    # remove punctuation and make lower case\n",
    "    content = re.sub('[^\\w\\s]', '', content).lower()\n",
    "    # split up the string based on spaces\n",
    "    content_list = content.split()\n",
    "\n",
    "    # initialize output string and use a for loop to update it\n",
    "    new_content = \"\"\n",
    "    for word in content_list:\n",
    "        if len(word) > 3:\n",
    "            # isolate first and last letters of the word\n",
    "            first_letter = word[0]\n",
    "            last_letter = word[-1]\n",
    "\n",
    "            # extract the middle of the word and jumble it up!\n",
    "            middle = word[1:-1]\n",
    "            jumbled_middle = random.sample(middle, len(middle))\n",
    "\n",
    "            # reassemble the parts of the jumbled word\n",
    "            jumbled_word = first_letter + \"\".join(jumbled_middle) + last_letter\n",
    "        else:\n",
    "            # the word is too short to be jumbled\n",
    "            jumbled_word = word\n",
    "        # update the output\n",
    "        new_content += jumbled_word + \" \"\n",
    "    return new_content\n",
    "\n",
    "\n",
    "if __name__ == \"__main__\":\n",
    "    main()\n",
    "```"
   ]
  },
  {
   "cell_type": "markdown",
   "metadata": {},
   "source": [
    "Running the script, we can see that it works!\n",
    "<br>\n",
    "![](workingversion.png)\n"
   ]
  },
  {
   "cell_type": "markdown",
   "metadata": {},
   "source": [
    "Thanks for reading this through to the end!\n",
    "I hope you found it helpful.\n",
    "If you have any questions or feedback, feel free to reach out to me on [LinkedIn](https://www.linkedin.com/in/mattoehler/).\n",
    "All of the code for this project can be found on my [github]().\n",
    "\n",
    "Happy Coding :)"
   ]
  }
 ],
 "metadata": {
  "kernelspec": {
   "display_name": "Python 3",
   "language": "python",
   "name": "python3"
  },
  "language_info": {
   "codemirror_mode": {
    "name": "ipython",
    "version": 3
   },
   "file_extension": ".py",
   "mimetype": "text/x-python",
   "name": "python",
   "nbconvert_exporter": "python",
   "pygments_lexer": "ipython3",
   "version": "3.7.5"
  }
 },
 "nbformat": 4,
 "nbformat_minor": 2
}
